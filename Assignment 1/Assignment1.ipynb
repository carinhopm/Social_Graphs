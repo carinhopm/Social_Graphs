{
 "cells": [
  {
   "cell_type": "markdown",
   "metadata": {},
   "source": [
    "# Assignment 1"
   ]
  },
  {
   "cell_type": "markdown",
   "metadata": {},
   "source": [
    "***Importing libraries***"
   ]
  },
  {
   "cell_type": "code",
   "execution_count": 1,
   "metadata": {},
   "outputs": [],
   "source": [
    "import matplotlib.pyplot as plt\n",
    "import numpy as np\n",
    "import networkx as nx\n",
    "import random\n",
    "import math"
   ]
  },
  {
   "cell_type": "markdown",
   "metadata": {},
   "source": [
    "# Part 1 Binning degree distributions"
   ]
  },
  {
   "cell_type": "markdown",
   "metadata": {},
   "source": [
    "### Part 1.1 Binning real numbers"
   ]
  },
  {
   "cell_type": "markdown",
   "metadata": {},
   "source": [
    "- Let's do a gentle start and use the random library generate 5000 data points from a Gaussian distribution with $\\mu = 2$ and $\\sigma = 0.125$."
   ]
  },
  {
   "cell_type": "code",
   "execution_count": 2,
   "metadata": {},
   "outputs": [],
   "source": [
    "mu = 2\n",
    "sigma = 0.125\n",
    "sampleSize = 5000\n",
    "\n",
    "## Generating 5000 data points with the mu = 2 and sigma = 0.125\n",
    "points = np.random.normal(mu, sigma, sampleSize)"
   ]
  },
  {
   "cell_type": "markdown",
   "metadata": {},
   "source": [
    "- Now, let's use numpy.histogram to bin those number into 10 bins. What does the numpy.histogram function return? Do the two arrays have the same length?"
   ]
  },
  {
   "cell_type": "code",
   "execution_count": 3,
   "metadata": {},
   "outputs": [],
   "source": [
    "## Binning the randomly generated samples into 10 bins\n",
    "numOfBins = 10\n",
    "count, binEdges = np.histogram(points, bins=numOfBins)\n"
   ]
  },
  {
   "cell_type": "markdown",
   "metadata": {},
   "source": [
    "***numpy histogram definition:***  The numpy histogram function computes the occurrences of the imput data (points) that within each bins. It returns two arrays as follows: \n",
    "\n",
    "* First Array: It consists of number of occurrences in each bin. The array length is 10 (ie. Number of bins)\n",
    "* Second Array: It consists of bin width. For instance, the first value corresponds to the start of first bin and the second value corresponds to the end of first bin and start of second bin. The array   length is 11.\n",
    "\n",
    "The length of the first array and the second array is not the same. "
   ]
  },
  {
   "cell_type": "markdown",
   "metadata": {},
   "source": [
    "- Then we use matplotlib.pyplot.plot to plot the binned data. You will have to deal with the fact that the counts- and bin-arrays have different lengths. Explain how you deal with this problem and why."
   ]
  },
  {
   "cell_type": "markdown",
   "metadata": {},
   "source": [
    "***Explanation:*** Since the size of the counts array is 10 and the size of the binEdges array is 11, plotting this will be an issue due to the mis-match in the array length. This could be solved by removing the last value in the binEdges array which is the edge of the last bin."
   ]
  },
  {
   "cell_type": "code",
   "execution_count": 4,
   "metadata": {},
   "outputs": [],
   "source": [
    "## Removing the last value in the binEdges array\n",
    "binEdges = binEdges[:-1]"
   ]
  },
  {
   "cell_type": "code",
   "execution_count": 5,
   "metadata": {},
   "outputs": [
    {
     "data": {
      "text/plain": [
       "(array([  14.,   86.,  420., 1220., 1623., 1152.,  409.,   70.,    5.]),\n",
       " array([1.53263284, 1.63844014, 1.74424744, 1.85005474, 1.95586204,\n",
       "        2.06166934, 2.16747664, 2.27328394, 2.37909124, 2.48489854]),\n",
       " <a list of 9 Patch objects>)"
      ]
     },
     "execution_count": 5,
     "metadata": {},
     "output_type": "execute_result"
    },
    {
     "data": {
      "image/png": "[encoded data removed]",
      "text/plain": [
       "<Figure size 432x288 with 1 Axes>"
      ]
     },
     "metadata": {
      "needs_background": "light"
     },
     "output_type": "display_data"
    }
   ],
   "source": [
    "## Plotting the binned data \n",
    "plt.hist(points, bins=binEdges)"
   ]
  },
  {
   "cell_type": "markdown",
   "metadata": {},
   "source": [
    "### Part 1.2 Binning Integers"
   ]
  },
  {
   "cell_type": "markdown",
   "metadata": {},
   "source": [
    "- But binning real numbers into a fixed number of bins is easy when numpy.histogram does all the work and finds the right bin boundaries for you. Now we'll generate a bunch of integers and set the bin boundaries manually. This time, let's grab data from a Poisson distribution. As it turns out numpy also has some convenient random number generators. Use numpy.random.poisson to generate 5000 numbers drawn from a Poisson distribution characterized by $\\lambda = 10$. Find the maximum and minimum value of your 5000 random numbers."
   ]
  },
  {
   "cell_type": "code",
   "execution_count": 6,
   "metadata": {},
   "outputs": [
    {
     "data": {
      "text/plain": [
       "'The minimum value is 0 and maximum value is 24'"
      ]
     },
     "execution_count": 6,
     "metadata": {},
     "output_type": "execute_result"
    }
   ],
   "source": [
    "lambdaa = 10\n",
    "sampleSize = 5000\n",
    "\n",
    "## Generating 5000 data points from poisson distribution with lambda = 10\n",
    "poissonPoints = np.random.poisson(lambdaa, sampleSize)\n",
    "\n",
    "## Finding the min value in the randomly generated points from poisson distribution \n",
    "minn = min(poissonPoints)\n",
    "\n",
    "## Finding the max value in the randomly generated points from poisson distribution \n",
    "maxx = max(poissonPoints)\n",
    "\n",
    "'The minimum value is {} and maximum value is {}'.format(minn,maxx)"
   ]
  },
  {
   "cell_type": "markdown",
   "metadata": {},
   "source": [
    "- Instead of simplify specifying the number of bins for numpy.histogram, let's specify the bins we want using a vector. Create a vector $v$ that results in a binning that puts each integer value in its own bin and where the first bin contains the minimum number you found above, and the last bin contains the maximum number (you may want to think about how numpy.histogram deals with the smallest an largest value in particular; is it correct to set the first entry of $v$ to be equal to the smallest value you observe and the last entry of $v$ to be the highest value observed?). Use the vector by setting numpy.histogram's bin parameter as bin = $v$. What is the sum over bin counts? Explain how the binning-vectors first and last element relates to the min and max from the Poisson distribution."
   ]
  },
  {
   "cell_type": "code",
   "execution_count": 7,
   "metadata": {},
   "outputs": [
    {
     "name": "stdout",
     "output_type": "stream",
     "text": [
      "[0, 1, 2, 3, 4, 5, 6, 7, 8, 9, 10, 11, 12, 13, 14, 15, 16, 17, 18, 19, 20, 21, 22, 23, 24]\n"
     ]
    }
   ],
   "source": [
    "## Specifying the bins in a vector v. Where the first bin contains the minimum values and the last bin contains the maximum values\n",
    "v = list(range(minn,maxx+1))\n",
    "print(v)"
   ]
  },
  {
   "cell_type": "markdown",
   "metadata": {},
   "source": [
    "It is correct to set the first entry to be equal to the min value of the points generateted randomly from the poisson distribution as it will ensure the least value is covered likewise it is correct to set the last entry to be equal to the max value as it will ensure the largest value is covered in the bin."
   ]
  },
  {
   "cell_type": "code",
   "execution_count": 8,
   "metadata": {},
   "outputs": [],
   "source": [
    "## Binning the randomly generated samples into 10 bins\n",
    "counts, binWidths = np.histogram(poissonPoints,bins=v)"
   ]
  },
  {
   "cell_type": "markdown",
   "metadata": {},
   "source": [
    "***Explanation:*** Since the size of the counts array is 21 and the size of the binWidths array is 22, plotting this will be an issue due to the mis-match in the array length. This could be solved by removing the last value in the binWidths array which is the edge of the last bin.***"
   ]
  },
  {
   "cell_type": "markdown",
   "metadata": {},
   "source": [
    "- Now, use a bar chart (matplotlib.pyplot.bar) to plot the distribution"
   ]
  },
  {
   "cell_type": "code",
   "execution_count": 9,
   "metadata": {},
   "outputs": [
    {
     "data": {
      "text/plain": [
       "<BarContainer object of 24 artists>"
      ]
     },
     "execution_count": 9,
     "metadata": {},
     "output_type": "execute_result"
    },
    {
     "data": {
      "image/png": "[encoded data removed]",
      "text/plain": [
       "<Figure size 432x288 with 1 Axes>"
      ]
     },
     "metadata": {
      "needs_background": "light"
     },
     "output_type": "display_data"
    }
   ],
   "source": [
    "## Slicing out the last element in the binWidths. \n",
    "binWidths = binWidths[:-1]\n",
    "\n",
    "## Plotting the randommly generated points from poisson distributions using the computed bins width\n",
    "plt.bar(binWidths, counts, color=\"blue\")"
   ]
  },
  {
   "cell_type": "code",
   "execution_count": 10,
   "metadata": {},
   "outputs": [
    {
     "data": {
      "text/plain": [
       "'The sum of the bin counts of the data is 5000'"
      ]
     },
     "execution_count": 10,
     "metadata": {},
     "output_type": "execute_result"
    }
   ],
   "source": [
    "##Computing the sum over bins\n",
    "binSum = sum(counts)\n",
    "\n",
    "'The sum of the bin counts of the data is {}'.format(binSum)"
   ]
  },
  {
   "cell_type": "markdown",
   "metadata": {},
   "source": [
    "In this case, the binning-vector is definied by based on the min and max value from the poisson distribution. Thats how the binning vectors first and last element is related to the min and max from the poisson distribution."
   ]
  },
  {
   "cell_type": "markdown",
   "metadata": {},
   "source": [
    "### Part 1.3 Binning and plotting degree distributions"
   ]
  },
  {
   "cell_type": "markdown",
   "metadata": {},
   "source": [
    "- Let's generate the Erdös-Renyi (ER) network which has a degree distribution that matches the Poisson distribution above. First we have to figure out which values the ER parameters (N and p) should assume. It's easy to see that $N = 5000$, but how do you find $p$? Hint: The parameter $\\lambda$ in the Poisson distribution corresponds to the average degree, so you have to find a $p$ that results in an average degree, $k = 10$. And you know that $\\langle k \\rangle = p (N-1)$, which will give you $p$."
   ]
  },
  {
   "cell_type": "code",
   "execution_count": 11,
   "metadata": {},
   "outputs": [],
   "source": [
    "N = 5000\n",
    "lambdaa = 10\n",
    "\n",
    "## Finding p\n",
    "p = lambdaa/(N-1.0)"
   ]
  },
  {
   "cell_type": "markdown",
   "metadata": {},
   "source": [
    "- Now, use networkx to create the graph and extract the degree distribution."
   ]
  },
  {
   "cell_type": "code",
   "execution_count": 12,
   "metadata": {},
   "outputs": [],
   "source": [
    "## Creating the graph\n",
    "ER = nx.erdos_renyi_graph(N,p) "
   ]
  },
  {
   "cell_type": "markdown",
   "metadata": {},
   "source": [
    "- Finally, create a nice bar plot of the degree distribution, including axes labels and a plot title. Make sure that it looks like the Poisson distribution you plotted above."
   ]
  },
  {
   "cell_type": "code",
   "execution_count": 13,
   "metadata": {},
   "outputs": [],
   "source": [
    "degreeList = [degree for degree in dict(ER.degree).values()]\n",
    "bin_vector  = [x for x in range(min(degreeList), max(degreeList))]\n",
    "counts, bin_edges = np.histogram(degreeList, bins=bin_vector)"
   ]
  },
  {
   "cell_type": "code",
   "execution_count": 14,
   "metadata": {},
   "outputs": [
    {
     "data": {
      "text/plain": [
       "<BarContainer object of 22 artists>"
      ]
     },
     "execution_count": 14,
     "metadata": {},
     "output_type": "execute_result"
    },
    {
     "data": {
      "image/png": "[encoded data removed]",
      "text/plain": [
       "<Figure size 432x288 with 1 Axes>"
      ]
     },
     "metadata": {
      "needs_background": "light"
     },
     "output_type": "display_data"
    }
   ],
   "source": [
    "## Plotting the points using the computed degreeList and bin_vector\n",
    "plt.ylabel(\"Number of nodes\")\n",
    "plt.xlabel(\"Degrees\")\n",
    "plt.title(f\"ER Network (n={N},p={p: .3f}) Degree Distribution\")\n",
    "plt.bar(bin_edges[:-1], counts, color=\"blue\")"
   ]
  },
  {
   "cell_type": "markdown",
   "metadata": {},
   "source": [
    "# Part 2: Random networks and plotting in networkx"
   ]
  },
  {
   "cell_type": "markdown",
   "metadata": {},
   "source": [
    "### Part 2.1 In your notebook, work through NS exercise 3.1 ('Erdős-Rényi Networks'). The exercise can be found in Section 3.11: Homework."
   ]
  },
  {
   "cell_type": "markdown",
   "metadata": {},
   "source": [
    "Consider an Erdős-Rényi network with N = 3,000 nodes, connected to each other with probability p = $10^{–3}$."
   ]
  },
  {
   "cell_type": "code",
   "execution_count": 15,
   "metadata": {},
   "outputs": [],
   "source": [
    "## Parameters\n",
    "##  ----------\n",
    "##  N : int The number of nodes\n",
    "##  p : float The probability of rewiring each edge\n",
    "N = 3000\n",
    "p = 0.001\n",
    "\n",
    "gh1 = nx.erdos_renyi_graph(N,p)"
   ]
  },
  {
   "cell_type": "markdown",
   "metadata": {},
   "source": [
    "- What is the expected number of links, 〈L〉?"
   ]
  },
  {
   "cell_type": "markdown",
   "metadata": {},
   "source": [
    "The formula to get 〈L〉 is:\n",
    "\\begin{equation*}\n",
    "〈L〉 = \\sum_{L=0}^{\\frac{N(N-1)}{2}} L p_L = p \\frac{N(N-1)}{2}\n",
    "\\end{equation*}"
   ]
  },
  {
   "cell_type": "code",
   "execution_count": 16,
   "metadata": {},
   "outputs": [
    {
     "name": "stdout",
     "output_type": "stream",
     "text": [
      "〈L〉 = 4498.5\n"
     ]
    }
   ],
   "source": [
    "L = p*((N*(N-1)/2))\n",
    "print(\"〈L〉 = \" + str(L))"
   ]
  },
  {
   "cell_type": "markdown",
   "metadata": {},
   "source": [
    "- In which regime is the network?"
   ]
  },
  {
   "cell_type": "markdown",
   "metadata": {},
   "source": [
    "It's necessary to get the average degree of the network to check its regime:\n",
    "\\begin{equation*}\n",
    "〈k〉 = \\frac{2〈L〉}{N} = p(N-1)\n",
    "\\end{equation*}"
   ]
  },
  {
   "cell_type": "code",
   "execution_count": 17,
   "metadata": {},
   "outputs": [
    {
     "name": "stdout",
     "output_type": "stream",
     "text": [
      "〈k〉 = 2.999\n"
     ]
    }
   ],
   "source": [
    "k = p*(N-1)\n",
    "print(\"〈k〉 = \" + str(k))"
   ]
  },
  {
   "cell_type": "markdown",
   "metadata": {},
   "source": [
    "***Explanation:*** The network is in the Supercritical Regime because 1 <〈k〉<ln(N), where ln(N)=8."
   ]
  },
  {
   "cell_type": "markdown",
   "metadata": {},
   "source": [
    "- Calculate the probability $p_{C}$ so that the network is at the critical point"
   ]
  },
  {
   "cell_type": "markdown",
   "metadata": {},
   "source": [
    "The Critical Point separates the regime where there is not yet a giant component from the regime where there is one. For this regime 〈k〉=1 and p could be calculated easily with the formula mentioned in the previous answer: p=1/(N-1)"
   ]
  },
  {
   "cell_type": "code",
   "execution_count": 18,
   "metadata": {},
   "outputs": [
    {
     "name": "stdout",
     "output_type": "stream",
     "text": [
      "p_c = 0.00033344448149383126\n"
     ]
    }
   ],
   "source": [
    "p_c = 1/(N-1)\n",
    "print(\"p_c = \" + str(p_c))"
   ]
  },
  {
   "cell_type": "markdown",
   "metadata": {},
   "source": [
    "- Given the linking probability p = $10^{–3}$, calculate the number of nodes $N^{cr}$ so that the network has only one component."
   ]
  },
  {
   "cell_type": "markdown",
   "metadata": {},
   "source": [
    "To have a network with only one giant component it has to reach the Connected Regime, where 〈k〉>ln(N) and p>ln(N)/N. The ecuation p\\*N>ln(N) is resolved for $N^{cr}$>9000 aproximately. The next plot represents both functions and their cut point:"
   ]
  },
  {
   "cell_type": "code",
   "execution_count": 19,
   "metadata": {},
   "outputs": [
    {
     "name": "stderr",
     "output_type": "stream",
     "text": [
      "C:\\Users\\carlo\\Anaconda3\\lib\\site-packages\\ipykernel_launcher.py:2: RuntimeWarning: divide by zero encountered in log\n",
      "  \n"
     ]
    },
    {
     "data": {
      "image/png": "[encoded data removed]",
      "text/plain": [
       "<Figure size 432x288 with 1 Axes>"
      ]
     },
     "metadata": {
      "needs_background": "light"
     },
     "output_type": "display_data"
    }
   ],
   "source": [
    "x = list(range(10000)) # x axis\n",
    "lg_func = np.log(x) # function 1: ln(N)\n",
    "line = [p*i for i in x] # function 2: p*N\n",
    "\n",
    "## Ploting both functions\n",
    "plt.plot(x, line, 'r-', label='p*N') \n",
    "plt.plot(x, lg_func, 'b-', label='ln(N)')         \n",
    "plt.xlabel(\"N\") \n",
    "plt.legend()\n",
    "plt.show()"
   ]
  },
  {
   "cell_type": "markdown",
   "metadata": {},
   "source": [
    "- For the network of the last question, calculate the average degree 〈$k^{cr}$〉 and the average distance between two randomly chosen nodes 〈d〉."
   ]
  },
  {
   "cell_type": "code",
   "execution_count": 20,
   "metadata": {},
   "outputs": [
    {
     "name": "stdout",
     "output_type": "stream",
     "text": [
      "〈k_cr〉 = 9.199\n"
     ]
    }
   ],
   "source": [
    "N_cr = 9200 # Just to be sure that Ncr > 9000\n",
    "gh1_cr = nx.erdos_renyi_graph(N_cr,p)\n",
    "\n",
    "k_cr = p*(N_cr-1)\n",
    "print(\"〈k_cr〉 = \" + str(k_cr))"
   ]
  },
  {
   "cell_type": "code",
   "execution_count": 21,
   "metadata": {},
   "outputs": [
    {
     "name": "stdout",
     "output_type": "stream",
     "text": [
      "<d>=4.365586004149789\n"
     ]
    }
   ],
   "source": [
    "d = nx.average_shortest_path_length(gh1_cr)\n",
    "print(\"<d>=\"+str(d))"
   ]
  },
  {
   "cell_type": "markdown",
   "metadata": {},
   "source": [
    "- Calculate the degree distribution $p_{k}$ of this network (approximate with a Poisson degree distribution)."
   ]
  },
  {
   "cell_type": "code",
   "execution_count": 22,
   "metadata": {},
   "outputs": [
    {
     "data": {
      "image/png": "[encoded data removed]",
      "text/plain": [
       "<Figure size 432x288 with 1 Axes>"
      ]
     },
     "metadata": {
      "needs_background": "light"
     },
     "output_type": "display_data"
    }
   ],
   "source": [
    "## Loop to save the degree of each node\n",
    "degree_sequence = []\n",
    "for n in range(1,N_cr):\n",
    "    degree_sequence.append(gh1_cr.degree[n])\n",
    "    \n",
    "## Plot histogram\n",
    "b = N_cr//200\n",
    "plt.hist(degree_sequence, bins=b)\n",
    "plt.title('Degree Histogram')\n",
    "plt.xlabel('k')\n",
    "plt.ylabel('Nº of nodes')\n",
    "plt.show()"
   ]
  },
  {
   "cell_type": "markdown",
   "metadata": {},
   "source": [
    "Plotting the degree's histogram of the graph is easy to see that the degree distribution function is aprox. a Poisson degree distribution with mean 〈$k^{cr}$〉=9.199. Also it has more nodes with higher degrees than ones with lower degrees."
   ]
  },
  {
   "cell_type": "markdown",
   "metadata": {},
   "source": [
    "### Part 2.2 Paths. Plot a random network with 200 nodes and an average degree of 1.5."
   ]
  },
  {
   "cell_type": "markdown",
   "metadata": {},
   "source": [
    "The probability of a link between two random nodes of the network can be obtained with this formula (applycable for random networks):\n",
    "\\begin{equation*}\n",
    "p = \\frac{〈k〉}{(N-1)})\n",
    "\\end{equation*}"
   ]
  },
  {
   "cell_type": "code",
   "execution_count": 23,
   "metadata": {},
   "outputs": [
    {
     "name": "stdout",
     "output_type": "stream",
     "text": [
      "p = 0.007537688442211055\n"
     ]
    },
    {
     "name": "stderr",
     "output_type": "stream",
     "text": [
      "C:\\Users\\carlo\\Anaconda3\\lib\\site-packages\\networkx\\drawing\\nx_pylab.py:579: MatplotlibDeprecationWarning: \n",
      "The iterable function was deprecated in Matplotlib 3.1 and will be removed in 3.3. Use np.iterable instead.\n",
      "  if not cb.iterable(width):\n"
     ]
    },
    {
     "data": {
      "image/png": "[encoded data removed]",
      "text/plain": [
       "<Figure size 432x288 with 1 Axes>"
      ]
     },
     "metadata": {},
     "output_type": "display_data"
    }
   ],
   "source": [
    "## Parameters\n",
    "##  ----------\n",
    "##  n : int The number of nodes\n",
    "##  k : float The average degree\n",
    "##  p : float The probability of rewiring each edge\n",
    "N = 200\n",
    "k = 1.5\n",
    "p = k/(N-1)\n",
    "print(\"p = \"+str(p))\n",
    "\n",
    "\n",
    "gh2 = nx.gnp_random_graph(N,p)\n",
    "nx.draw(gh2,node_size=20)"
   ]
  },
  {
   "cell_type": "markdown",
   "metadata": {},
   "source": [
    "- Extract the Giant Connected Component, GCC."
   ]
  },
  {
   "cell_type": "code",
   "execution_count": 24,
   "metadata": {},
   "outputs": [
    {
     "data": {
      "image/png": "[encoded data removed]",
      "text/plain": [
       "<Figure size 432x288 with 1 Axes>"
      ]
     },
     "metadata": {},
     "output_type": "display_data"
    }
   ],
   "source": [
    "ggc = max(nx.connected_component_subgraphs(gh2), key=len)\n",
    "nx.draw(ggc,node_size=20)"
   ]
  },
  {
   "cell_type": "markdown",
   "metadata": {},
   "source": [
    "- Choose a node at random from the GCC."
   ]
  },
  {
   "cell_type": "code",
   "execution_count": 53,
   "metadata": {},
   "outputs": [
    {
     "name": "stdout",
     "output_type": "stream",
     "text": [
      "Random node 131 selected.\n"
     ]
    }
   ],
   "source": [
    "node1 = random.choice(list(ggc.nodes))\n",
    "print(\"Random node \"+str(node1)+\" selected.\")"
   ]
  },
  {
   "cell_type": "markdown",
   "metadata": {},
   "source": [
    "- Find all nodes that are precisely 2 steps away from that node."
   ]
  },
  {
   "cell_type": "code",
   "execution_count": 26,
   "metadata": {},
   "outputs": [
    {
     "name": "stdout",
     "output_type": "stream",
     "text": [
      "Nodes [104, 121, 98] are 2 steps away from node 86\n"
     ]
    }
   ],
   "source": [
    "node_2steps = []\n",
    "neig_node1 = list(ggc.neighbors(node1))\n",
    "for n in neig_node1:\n",
    "    node_2steps.extend(list(ggc.neighbors(n)))\n",
    "node_2steps = list(set(node_2steps))\n",
    "node_2steps.remove(node1)\n",
    "node_2steps = list(set(node_2steps) - set(neig_node1))\n",
    "print(\"Nodes \"+str(node_2steps)+\" are 2 steps away from node \"+str(node1))"
   ]
  },
  {
   "cell_type": "markdown",
   "metadata": {},
   "source": [
    "- Plot the GCC with the following choice of colors. Starting node black (\"#000000\"). The nodes 2 steps away red (\"#ff0000\"). All other nodes blue (\"#A0CBE2\")."
   ]
  },
  {
   "cell_type": "code",
   "execution_count": 27,
   "metadata": {},
   "outputs": [
    {
     "data": {
      "image/png": "[encoded data removed]",
      "text/plain": [
       "<Figure size 432x288 with 1 Axes>"
      ]
     },
     "metadata": {},
     "output_type": "display_data"
    }
   ],
   "source": [
    "node_color = []\n",
    "for n in list(ggc.nodes):\n",
    "    if n == node1:\n",
    "        node_color.append(\"#000000\")\n",
    "    elif n in node_2steps:\n",
    "        node_color.append(\"#ff0000\")\n",
    "    else:\n",
    "        node_color.append(\"#A0CBE2\")\n",
    "nx.draw(ggc,with_labels=False, node_size=20, node_color=node_color)"
   ]
  },
  {
   "cell_type": "markdown",
   "metadata": {},
   "source": [
    "# Part 3: Watts-Strogatz Networks"
   ]
  },
  {
   "cell_type": "markdown",
   "metadata": {},
   "source": [
    "- First, let's use networkx to play around with WS graphs. Use nx.watts_strogatz_graph to generate 3 graphs with 500 nodes each, average degree = 4, and rewiring probablity p=0,0.1,and1. Calculate the average shortest path length ⟨d⟩ for each one. Describe what happens to the network when p=1."
   ]
  },
  {
   "cell_type": "code",
   "execution_count": 28,
   "metadata": {},
   "outputs": [],
   "source": [
    "## Generating 3 wattts and strogatz graph with 500 nodes in each graph\n",
    "\n",
    "## Parameters\n",
    "##  ----------\n",
    "##  n : int The number of nodes\n",
    "##  k : int Each node is joined with its ``k`` nearest neighbors in a ring topology.\n",
    "##  p : float The probability of rewiring each edge\n",
    "\n",
    "##  nx.watts_strogatz_graph(n,k,p)\n",
    "\n",
    "nodeCount = 500\n",
    "avgDegree_k = 4\n",
    "\n",
    "graph1 = nx.watts_strogatz_graph(nodeCount,avgDegree_k,0)\n",
    "graph2 = nx.watts_strogatz_graph(nodeCount,avgDegree_k,0.1)\n",
    "graph3 = nx.watts_strogatz_graph(nodeCount,avgDegree_k,1)"
   ]
  },
  {
   "cell_type": "code",
   "execution_count": 29,
   "metadata": {},
   "outputs": [],
   "source": [
    "## Calculate the average shortest path length ⟨d⟩ for each one. Describe what happens to the network when p=1.\n",
    "\n",
    "## Calculate the average shortest path length ⟨d⟩ for Graph 1\n",
    "graph1_avg_shortest_path = nx.average_shortest_path_length(graph1)\n",
    "\n",
    "## Calculate the average shortest path length ⟨d⟩ for Graph 2\n",
    "graph2_avg_shortest_path = nx.average_shortest_path_length(graph2)\n",
    "\n",
    "## Calculate the average shortest path length ⟨d⟩ for Graph 3\n",
    "graph3_avg_shortest_path = nx.average_shortest_path_length(graph3)"
   ]
  },
  {
   "cell_type": "code",
   "execution_count": 30,
   "metadata": {},
   "outputs": [
    {
     "data": {
      "text/plain": [
       "'The average shortest path for graph 1 is 62.875751503006015'"
      ]
     },
     "execution_count": 30,
     "metadata": {},
     "output_type": "execute_result"
    }
   ],
   "source": [
    "'The average shortest path for graph 1 is {}'.format(graph1_avg_shortest_path)"
   ]
  },
  {
   "cell_type": "code",
   "execution_count": 31,
   "metadata": {},
   "outputs": [
    {
     "data": {
      "text/plain": [
       "'The average shortest path for graph 2 is 7.2946693386773545'"
      ]
     },
     "execution_count": 31,
     "metadata": {},
     "output_type": "execute_result"
    }
   ],
   "source": [
    "'The average shortest path for graph 2 is {}'.format(graph2_avg_shortest_path)"
   ]
  },
  {
   "cell_type": "code",
   "execution_count": 32,
   "metadata": {},
   "outputs": [
    {
     "data": {
      "text/plain": [
       "'The average shortest path for graph 3 is 4.736801603206413'"
      ]
     },
     "execution_count": 32,
     "metadata": {},
     "output_type": "execute_result"
    }
   ],
   "source": [
    "'The average shortest path for graph 3 is {}'.format(graph3_avg_shortest_path)"
   ]
  },
  {
   "cell_type": "markdown",
   "metadata": {},
   "source": [
    "***Conclusion:***  When p=1, then all the links will be randomly re-wired so that the network will begin to resemble a Random Network. As a consequence of this the average shortest path between any two nodes in the graph will be small."
   ]
  },
  {
   "cell_type": "markdown",
   "metadata": {},
   "source": [
    "- Let's investigate this behavior in detail. Generate 50 networks with N=500, ⟨k⟩=4, for each of p={0,0.01,0.03,0.05,0.1,0.2}. Calculate the average of ⟨d⟩ as well as the standard deviation over the 50 networks, to create a plot that shows how the path length decreases very quickly with only a little fraction of re-wiring. Use the standard deviation to add errorbars to the plot."
   ]
  },
  {
   "cell_type": "code",
   "execution_count": 33,
   "metadata": {},
   "outputs": [],
   "source": [
    "nodeCount = 500\n",
    "avg_degree_k = 4\n",
    "p_values = [0,0.01,0.03,0.05,0.1,0.2]\n",
    "numOfNetworks = 50\n",
    "\n",
    "## Initializing empty array of dimension 50 x 6 to store the shortest path. \n",
    "avg_shortest_path_length = np.zeros((50, 6))\n",
    "\n",
    "## Generating 50 Networks for each p value\n",
    "for i, p in enumerate(p_values):\n",
    "    \n",
    "    count = 0\n",
    "    \n",
    "    while(count < numOfNetworks):\n",
    "        \n",
    "        ## Generating a strogatz graph\n",
    "        graph = nx.watts_strogatz_graph(nodeCount,avgDegree_k,p)\n",
    "    \n",
    "        ## Calculate the average shortest path length ⟨d⟩ for Graph\n",
    "        graph_avg_shortest_path = nx.average_shortest_path_length(graph)\n",
    "        \n",
    "        ## Storing it in the array\n",
    "        avg_shortest_path_length[count,i] = graph_avg_shortest_path\n",
    "        \n",
    "        count += 1\n",
    "        \n"
   ]
  },
  {
   "cell_type": "code",
   "execution_count": 34,
   "metadata": {},
   "outputs": [],
   "source": [
    "## Calculate the average of ⟨d⟩ for each p value\n",
    "avg_shortestPath = np.mean(avg_shortest_path_length, axis = 0)\n",
    "\n",
    "## Calculating the standard deviation\n",
    "\n",
    "stdev = np.std(avg_shortest_path_length, axis = 0)"
   ]
  },
  {
   "cell_type": "markdown",
   "metadata": {},
   "source": [
    "- Plot of average $\\langle d \\rangle$ as a function of rewiring probability $p$"
   ]
  },
  {
   "cell_type": "code",
   "execution_count": 35,
   "metadata": {},
   "outputs": [
    {
     "data": {
      "image/png": "[encoded data removed]",
      "text/plain": [
       "<Figure size 640x480 with 1 Axes>"
      ]
     },
     "metadata": {
      "needs_background": "light"
     },
     "output_type": "display_data"
    }
   ],
   "source": [
    "## Plotting the average <d> as a function of rewiring probability p\n",
    "plt.figure(figsize=(8, 6), dpi= 80)\n",
    "plt.errorbar(p_values, avg_shortestPath, yerr = stdev, fmt = '-ko',capsize=5)\n",
    "plt.xlabel('p')\n",
    "plt.ylabel('avg(<d>)')\n",
    "plt.title('Figure 1')\n",
    "plt.show()"
   ]
  },
  {
   "cell_type": "markdown",
   "metadata": {},
   "source": [
    "# Part 4: The Barabasi-Albert Model"
   ]
  },
  {
   "cell_type": "markdown",
   "metadata": {},
   "source": [
    "- Create a 100 node BA network using a BA model that you've coded on your own (so don't use the built-in NetworkX function, but the one you created during week 3). And plot it using NetworkX."
   ]
  },
  {
   "cell_type": "code",
   "execution_count": 36,
   "metadata": {},
   "outputs": [],
   "source": [
    "## Defining the function to generate graph\n",
    "def barabasi_model(nodes):\n",
    "    # create a graph with one link\n",
    "    graph = nx.Graph()\n",
    "    graph.add_nodes_from([0,1])\n",
    "    graph.add_edge(0 ,1)\n",
    "    for node in range(2,nodes):\n",
    "        nodes = np.array(list(graph.edges)).flatten()\n",
    "        selected = np.random.choice(nodes)\n",
    "        graph.add_node(node)\n",
    "        graph.add_edge(node, selected)\n",
    "    \n",
    "    return graph"
   ]
  },
  {
   "cell_type": "code",
   "execution_count": 37,
   "metadata": {},
   "outputs": [
    {
     "data": {
      "image/png": "[encoded data removed]",
      "text/plain": [
       "<Figure size 720x720 with 1 Axes>"
      ]
     },
     "metadata": {},
     "output_type": "display_data"
    }
   ],
   "source": [
    "#create a 100 node BA network\n",
    "BA = barabasi_model(100)\n",
    "plt.figure(figsize=(10,10))\n",
    "plt.title(\"100 Node Barabasi-Albert Network\")\n",
    "nx.draw_networkx(BA, node_size=50, with_labels=False, alpha=0.5)"
   ]
  },
  {
   "cell_type": "markdown",
   "metadata": {},
   "source": [
    "- Now create a 5000 node network"
   ]
  },
  {
   "cell_type": "code",
   "execution_count": 38,
   "metadata": {},
   "outputs": [],
   "source": [
    "BA_5000 = barabasi_model(5000)"
   ]
  },
  {
   "cell_type": "markdown",
   "metadata": {},
   "source": [
    "- Finding the maximum and minimum degree"
   ]
  },
  {
   "cell_type": "code",
   "execution_count": 39,
   "metadata": {},
   "outputs": [
    {
     "name": "stdout",
     "output_type": "stream",
     "text": [
      "Max_degree =  114\n",
      "Min_degree =  1\n"
     ]
    }
   ],
   "source": [
    "max_degree = max(dict(BA_5000.degree).values())\n",
    "min_degree = min(dict(BA_5000.degree).values())\n",
    "\n",
    "print('Max_degree = ', max_degree)\n",
    "print('Min_degree = ', min_degree)"
   ]
  },
  {
   "cell_type": "markdown",
   "metadata": {},
   "source": [
    "- Bin the Degree Distribution"
   ]
  },
  {
   "cell_type": "code",
   "execution_count": 40,
   "metadata": {},
   "outputs": [],
   "source": [
    "degreeList = [degree for degree in dict(BA_5000.degree).values()]\n",
    "bin_vector  = [x for x in range(min(degreeList), max(degreeList))]\n",
    "counts, bin_edges = np.histogram(degreeList, bins=bin_vector)"
   ]
  },
  {
   "cell_type": "markdown",
   "metadata": {},
   "source": [
    "- Plot the Distribution"
   ]
  },
  {
   "cell_type": "code",
   "execution_count": 41,
   "metadata": {},
   "outputs": [
    {
     "data": {
      "image/png": "[encoded data removed]",
      "text/plain": [
       "<Figure size 576x576 with 1 Axes>"
      ]
     },
     "metadata": {
      "needs_background": "light"
     },
     "output_type": "display_data"
    }
   ],
   "source": [
    "plt.figure(figsize=(8,8))\n",
    "plt.ylabel('# Nodes')\n",
    "plt.xlabel('Degrees')\n",
    "plt.title(\"Barabasi network (n=5000) degree Distribution\")\n",
    "plt.scatter(bin_edges[:-1], counts)\n",
    "plt.show()"
   ]
  },
  {
   "cell_type": "code",
   "execution_count": 42,
   "metadata": {},
   "outputs": [
    {
     "data": {
      "image/png": "[encoded data removed]",
      "text/plain": [
       "<Figure size 576x576 with 1 Axes>"
      ]
     },
     "metadata": {
      "needs_background": "light"
     },
     "output_type": "display_data"
    }
   ],
   "source": [
    "plt.figure(figsize=(8,8))\n",
    "\n",
    "plt.ylabel('# Nodes')\n",
    "plt.xlabel('Degrees')\n",
    "plt.title(\"Barabasi network (n=5000) degree Distribution (log-log)\")\n",
    "plt.loglog(bin_edges[:-1], counts)\n",
    "plt.show()"
   ]
  },
  {
   "cell_type": "markdown",
   "metadata": {},
   "source": [
    "# Part 5: Power Laws and Friendship Paradox"
   ]
  },
  {
   "cell_type": "markdown",
   "metadata": {},
   "source": [
    "Next step is to explore the Friendship paradox. This paradox states that almost everyone have fewer friends than their friends have, on average. This sounds crazy, but is actually an almost trivial consequence of living in a social network with a power-law degree distribution. The explanation is that almost everyone is friends with a hub, that drives up the average degree of the friends. Let's explore that in the 5000 node BA network we've just generated. Do the following:"
   ]
  },
  {
   "cell_type": "markdown",
   "metadata": {},
   "source": [
    "Defining a function to perform the following actions: \n",
    "\n",
    "- Pick a node i at random (e.g. use random.choice). Find its degree.\n",
    "- find n's neighbours and their average degree\n",
    "- Compare the two numbers to check if it's true that i's friends (on average) have more friends than i.\n",
    "- Do this 1000 times. How many out of those 1000 times is the friendship paradox true?"
   ]
  },
  {
   "cell_type": "code",
   "execution_count": 43,
   "metadata": {},
   "outputs": [],
   "source": [
    "def friendship_paradox(graph):\n",
    "    # initialize a list of boolean True if neigbours degree is larger False if not\n",
    "    count = []\n",
    "    for i in range(1000):\n",
    "        # pick a node n at random and find its degree\n",
    "        random_node = np.random.choice(list(graph.nodes))\n",
    "        random_node_degree = graph.degree[random_node]\n",
    "        #find n's neighbours and their average degree\n",
    "        neighbours = list(graph[random_node])\n",
    "        neighbours_avg_degree = np.mean([graph.degree[node] for node in neighbours])\n",
    "        #check if neighbours avergae degree is bigger that n's and append it to a list\n",
    "        count.append(random_node_degree < neighbours_avg_degree)\n",
    "    return f\"Neighbours avg Degree was larger {sum(count)} out of {len(count)} times\""
   ]
  },
  {
   "cell_type": "markdown",
   "metadata": {},
   "source": [
    "- Check our BA Network for Friendship Paradox"
   ]
  },
  {
   "cell_type": "code",
   "execution_count": 44,
   "metadata": {},
   "outputs": [
    {
     "data": {
      "text/plain": [
       "'Neighbours avg Degree was larger 841 out of 1000 times'"
      ]
     },
     "execution_count": 44,
     "metadata": {},
     "output_type": "execute_result"
    }
   ],
   "source": [
    "friendship_paradox(BA_5000)"
   ]
  },
  {
   "cell_type": "markdown",
   "metadata": {},
   "source": [
    "- Finally we'll build a network of the same size and degree, using the growth mechanism without the preferential attachment."
   ]
  },
  {
   "cell_type": "code",
   "execution_count": 45,
   "metadata": {},
   "outputs": [],
   "source": [
    "def growth_network(nodes):\n",
    "    \"\"\"Construct a graph by adding a node at random with propability \n",
    "        inverse to the number of nodes\"\"\"\n",
    "    graph = nx.Graph()\n",
    "    for node in range(5000):\n",
    "        if nx.is_empty(graph):\n",
    "            graph.add_nodes_from([1,2])\n",
    "            graph.add_edge(1 ,2)\n",
    "        else:\n",
    "            graph.add_node(node)\n",
    "            for n in list(graph.nodes):\n",
    "                \"\"\" make add an edge at random, by attaching the new node \n",
    "                    to any other node with a propability p = 1/( number of nodes +1)\n",
    "                \"\"\"\n",
    "                if np.random.rand() < 1/(node+1):\n",
    "                    graph.add_edge(node, n)\n",
    "        \n",
    "    return graph"
   ]
  },
  {
   "cell_type": "code",
   "execution_count": 46,
   "metadata": {},
   "outputs": [],
   "source": [
    "random_net = growth_network(5000)"
   ]
  },
  {
   "cell_type": "markdown",
   "metadata": {},
   "source": [
    "To build a network with the growh mechanism but without the preferential attachment, each time we add a node to the network, it connects to another node at random, with a propability of $ p = \\frac{1}{N+1} $ where N is the number of nodes."
   ]
  },
  {
   "cell_type": "markdown",
   "metadata": {},
   "source": [
    "* Compare to the ER network of same size and same $p$. What are the differences? Explain in your own words. *Hint*: To get started, take a look at the degree distribution, and study the number of connected components."
   ]
  },
  {
   "cell_type": "markdown",
   "metadata": {},
   "source": [
    "-  Check the degree distribution"
   ]
  },
  {
   "cell_type": "code",
   "execution_count": 47,
   "metadata": {},
   "outputs": [
    {
     "data": {
      "image/png": "[encoded data removed]",
      "text/plain": [
       "<Figure size 720x720 with 2 Axes>"
      ]
     },
     "metadata": {
      "needs_background": "light"
     },
     "output_type": "display_data"
    }
   ],
   "source": [
    "degree_list = [degree for n, degree in random_net.degree]\n",
    "bin_vector = [x for x in range(min(degree_list), max(degree_list))]\n",
    "hist, bin_edges = np.histogram(degree_list, bins=bin_vector)\n",
    "fig = plt.figure(figsize=(10,10))\n",
    "ax1 = fig.add_subplot(121)\n",
    "ax1.set_ylabel('# Nodes')\n",
    "ax1.set_xlabel('Degrees')\n",
    "ax1.set_title('Random Network Degree Distribution')\n",
    "ax1.scatter(bin_edges[:-1], hist, alpha=0.5)\n",
    "\n",
    "\n",
    "#fig = plt.figure()\n",
    "degree_list = [degree for n, degree in BA_5000.degree]\n",
    "bin_vector = [x for x in range(min(degree_list), max(degree_list))]\n",
    "hist, bin_edges = np.histogram(degree_list, bins=bin_vector)\n",
    "ax2 = fig.add_subplot(122)\n",
    "ax2.set_ylabel('# Nodes')\n",
    "ax2.set_xlabel('Degrees')\n",
    "ax2.set_title(\"BA Degree Distribution\")\n",
    "ax2.scatter(bin_edges[:-1], hist, alpha=0.5)\n",
    "\n",
    "\n",
    "plt.show()"
   ]
  },
  {
   "cell_type": "markdown",
   "metadata": {},
   "source": [
    "We observe that the random network follows a Poisson Distribution while the Barabasi-Albert Network follows a Power Law Distribution. "
   ]
  },
  {
   "cell_type": "markdown",
   "metadata": {},
   "source": [
    "-  Find the Maximum and Minimum Degrees"
   ]
  },
  {
   "cell_type": "code",
   "execution_count": 48,
   "metadata": {},
   "outputs": [
    {
     "name": "stdout",
     "output_type": "stream",
     "text": [
      "ER Max Degree: 15 ER Min Degree 1\n",
      "BA Max Degree: 114 ER Min Degree 1\n"
     ]
    }
   ],
   "source": [
    "print(f\"ER Max Degree: {max(dict(random_net.degree).values())} ER Min Degree {min(dict(ER.degree).values())}\")\n",
    "print(f\"BA Max Degree: {max(dict(BA_5000.degree).values())} ER Min Degree {min(dict(BA_5000.degree).values())}\")"
   ]
  },
  {
   "cell_type": "markdown",
   "metadata": {},
   "source": [
    "We can see that in the BA network there exist nodes with much larger degree ( >\\*10) than in the random network."
   ]
  },
  {
   "cell_type": "markdown",
   "metadata": {},
   "source": [
    "- Compare the average degree"
   ]
  },
  {
   "cell_type": "code",
   "execution_count": 49,
   "metadata": {},
   "outputs": [
    {
     "name": "stdout",
     "output_type": "stream",
     "text": [
      "Random Net Average Degree: 1.9996\n",
      "BA Average Degree: 1.9683936787357472\n"
     ]
    }
   ],
   "source": [
    "avg_degree_BA = sum([d for n, d in BA_5000.degree()])/len(BA_5000.degree())\n",
    "avg_degree_random_net = sum([d for n, d in random_net.degree()])/len(random_net.degree())\n",
    "\n",
    "print(f\"Random Net Average Degree: {avg_degree_BA}\")\n",
    "print(f\"BA Average Degree: {avg_degree_random_net}\")"
   ]
  },
  {
   "cell_type": "markdown",
   "metadata": {},
   "source": [
    "- Study the Number of Connected Components"
   ]
  },
  {
   "cell_type": "code",
   "execution_count": 50,
   "metadata": {},
   "outputs": [
    {
     "name": "stdout",
     "output_type": "stream",
     "text": [
      "Random Net components:  1060\n",
      "BA components:  1\n"
     ]
    }
   ],
   "source": [
    "ER_components = list(nx.connected_components(random_net))\n",
    "BA_components = list(nx.connected_components(BA_5000))\n",
    "print(\"Random Net components: \", len(ER_components))\n",
    "print(\"BA components: \",len(BA_components))"
   ]
  },
  {
   "cell_type": "markdown",
   "metadata": {},
   "source": [
    "We observe that in the Barabasi-Albert Network there is only one giant component, whereas in the Random Network there are multiple small components."
   ]
  },
  {
   "cell_type": "markdown",
   "metadata": {},
   "source": [
    "- Also we could test for the friendship paradox in both networks"
   ]
  },
  {
   "cell_type": "code",
   "execution_count": 51,
   "metadata": {},
   "outputs": [
    {
     "data": {
      "text/plain": [
       "'Neighbours avg Degree was larger 848 out of 1000 times'"
      ]
     },
     "execution_count": 51,
     "metadata": {},
     "output_type": "execute_result"
    }
   ],
   "source": [
    "friendship_paradox(BA_5000)"
   ]
  },
  {
   "cell_type": "code",
   "execution_count": 52,
   "metadata": {},
   "outputs": [
    {
     "name": "stderr",
     "output_type": "stream",
     "text": [
      "C:\\Users\\carlo\\Anaconda3\\lib\\site-packages\\numpy\\core\\fromnumeric.py:3118: RuntimeWarning: Mean of empty slice.\n",
      "  out=out, **kwargs)\n",
      "C:\\Users\\carlo\\Anaconda3\\lib\\site-packages\\numpy\\core\\_methods.py:85: RuntimeWarning: invalid value encountered in double_scalars\n",
      "  ret = ret.dtype.type(ret / rcount)\n"
     ]
    },
    {
     "data": {
      "text/plain": [
       "'Neighbours avg Degree was larger 527 out of 1000 times'"
      ]
     },
     "execution_count": 52,
     "metadata": {},
     "output_type": "execute_result"
    }
   ],
   "source": [
    "friendship_paradox(random_net)"
   ]
  },
  {
   "cell_type": "markdown",
   "metadata": {},
   "source": [
    "We can see that the friendship paradox does not occur in the random network, which is to be expected since the friendship paradox occurs due to the preferential attachment factor."
   ]
  }
 ],
 "metadata": {
  "hide_input": false,
  "kernelspec": {
   "display_name": "Python 3",
   "language": "python",
   "name": "python3"
  },
  "language_info": {
   "codemirror_mode": {
    "name": "ipython",
    "version": 3
   },
   "file_extension": ".py",
   "mimetype": "text/x-python",
   "name": "python",
   "nbconvert_exporter": "python",
   "pygments_lexer": "ipython3",
   "version": "3.7.3"
  },
  "toc": {
   "base_numbering": 1,
   "nav_menu": {},
   "number_sections": true,
   "sideBar": true,
   "skip_h1_title": false,
   "title_cell": "Table of Contents",
   "title_sidebar": "Contents",
   "toc_cell": false,
   "toc_position": {},
   "toc_section_display": true,
   "toc_window_display": false
  }
 },
 "nbformat": 4,
 "nbformat_minor": 2
}
